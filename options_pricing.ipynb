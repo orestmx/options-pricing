{
 "cells": [
  {
   "metadata": {
    "ExecuteTime": {
     "end_time": "2025-08-16T19:53:37.487816Z",
     "start_time": "2025-08-16T19:53:37.013200Z"
    }
   },
   "cell_type": "code",
   "source": [
    "import numpy as np\n",
    "import src"
   ],
   "id": "7a6cd90990a07fff",
   "outputs": [],
   "execution_count": 1
  },
  {
   "metadata": {
    "ExecuteTime": {
     "end_time": "2025-08-16T19:54:04.677984Z",
     "start_time": "2025-08-16T19:54:04.613345Z"
    }
   },
   "cell_type": "code",
   "source": [
    "cfg = src.MCParams(S0=100, sigma=0.2, T=1, M=10_000)\n",
    "paths = src.gbm_path_generation(cfg)\n",
    "\n",
    "price = src.mc_price(paths, src.european_payoff(K=110, option_type='call'), r=0.0, T=cfg.T)\n",
    "print(price)"
   ],
   "id": "c5ffeefb8453c835",
   "outputs": [
    {
     "name": "stdout",
     "output_type": "stream",
     "text": [
      "4.067947058055687\n"
     ]
    }
   ],
   "execution_count": 3
  },
  {
   "metadata": {
    "ExecuteTime": {
     "end_time": "2025-08-16T19:57:02.337168Z",
     "start_time": "2025-08-16T19:57:02.334027Z"
    }
   },
   "cell_type": "code",
   "source": [
    "digital_price = src.mc_price(paths, src.digital_payoff(K=110, option_type='call', cash=10), r=0.0, T=cfg.T)\n",
    "print(digital_price)"
   ],
   "id": "4bd28651cc7d4598",
   "outputs": [
    {
     "name": "stdout",
     "output_type": "stream",
     "text": [
      "2.748\n"
     ]
    }
   ],
   "execution_count": 5
  },
  {
   "metadata": {},
   "cell_type": "code",
   "outputs": [],
   "execution_count": null,
   "source": "",
   "id": "b9c0e2c8abec36a9"
  }
 ],
 "metadata": {
  "kernelspec": {
   "display_name": "Python 3",
   "language": "python",
   "name": "python3"
  },
  "language_info": {
   "codemirror_mode": {
    "name": "ipython",
    "version": 2
   },
   "file_extension": ".py",
   "mimetype": "text/x-python",
   "name": "python",
   "nbconvert_exporter": "python",
   "pygments_lexer": "ipython2",
   "version": "2.7.6"
  }
 },
 "nbformat": 4,
 "nbformat_minor": 5
}
